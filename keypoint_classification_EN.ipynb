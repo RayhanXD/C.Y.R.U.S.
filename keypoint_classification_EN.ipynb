{
 "cells": [
  {
   "cell_type": "code",
   "execution_count": 1,
   "metadata": {
    "id": "igMyGnjE9hEp"
   },
   "outputs": [],
   "source": [
    "import csv\n",
    "\n",
    "import numpy as np\n",
    "import tensorflow as tf\n",
    "from sklearn.model_selection import train_test_split\n",
    "\n",
    "RANDOM_SEED = 42"
   ]
  },
  {
   "cell_type": "markdown",
   "metadata": {
    "id": "t2HDvhIu9hEr"
   },
   "source": [
    "# Specify each path"
   ]
  },
  {
   "cell_type": "code",
   "execution_count": 2,
   "metadata": {
    "id": "9NvZP2Zn9hEy"
   },
   "outputs": [],
   "source": [
    "dataset = 'model/keypoint_classifier/keypoint.csv'\n",
    "model_save_path = 'model/keypoint_classifier/keypoint_classifier.hdf5'\n",
    "tflite_save_path = 'model/keypoint_classifier/keypoint_classifier.tflite'"
   ]
  },
  {
   "cell_type": "markdown",
   "metadata": {
    "id": "s5oMH7x19hEz"
   },
   "source": [
    "# Set number of classes"
   ]
  },
  {
   "cell_type": "code",
   "execution_count": 3,
   "metadata": {
    "id": "du4kodXL9hEz"
   },
   "outputs": [],
   "source": [
    "NUM_CLASSES = 4"
   ]
  },
  {
   "cell_type": "markdown",
   "metadata": {
    "id": "XjnL0uso9hEz"
   },
   "source": [
    "# Dataset reading"
   ]
  },
  {
   "cell_type": "code",
   "execution_count": 4,
   "metadata": {
    "id": "QT5ZqtEz9hE0"
   },
   "outputs": [],
   "source": [
    "X_dataset = np.loadtxt(dataset, delimiter=',', dtype='float32', usecols=list(range(1, (21 * 2) + 1)))"
   ]
  },
  {
   "cell_type": "code",
   "execution_count": 5,
   "metadata": {
    "id": "QmoKFsp49hE0"
   },
   "outputs": [],
   "source": [
    "y_dataset = np.loadtxt(dataset, delimiter=',', dtype='int32', usecols=(0))"
   ]
  },
  {
   "cell_type": "code",
   "execution_count": 6,
   "metadata": {
    "id": "xQU7JTZ_9hE0"
   },
   "outputs": [],
   "source": [
    "X_train, X_test, y_train, y_test = train_test_split(X_dataset, y_dataset, train_size=0.75, random_state=RANDOM_SEED)"
   ]
  },
  {
   "cell_type": "markdown",
   "metadata": {
    "id": "mxK_lETT9hE0"
   },
   "source": [
    "# Model building"
   ]
  },
  {
   "cell_type": "code",
   "execution_count": 7,
   "metadata": {
    "id": "vHBmUf1t9hE1"
   },
   "outputs": [],
   "source": [
    "model = tf.keras.models.Sequential([\n",
    "    tf.keras.layers.Input((21 * 2, )),\n",
    "    tf.keras.layers.Dropout(0.2),\n",
    "    tf.keras.layers.Dense(20, activation='relu'),\n",
    "    tf.keras.layers.Dropout(0.4),\n",
    "    tf.keras.layers.Dense(10, activation='relu'),\n",
    "    tf.keras.layers.Dense(NUM_CLASSES, activation='softmax')\n",
    "])"
   ]
  },
  {
   "cell_type": "code",
   "execution_count": 8,
   "metadata": {
    "colab": {
     "base_uri": "https://localhost:8080/"
    },
    "id": "ypqky9tc9hE1",
    "outputId": "5db082bb-30e3-4110-bf63-a1ee777ecd46"
   },
   "outputs": [
    {
     "name": "stdout",
     "output_type": "stream",
     "text": [
      "Model: \"sequential\"\n",
      "_________________________________________________________________\n",
      " Layer (type)                Output Shape              Param #   \n",
      "=================================================================\n",
      " dropout (Dropout)           (None, 42)                0         \n",
      "                                                                 \n",
      " dense (Dense)               (None, 20)                860       \n",
      "                                                                 \n",
      " dropout_1 (Dropout)         (None, 20)                0         \n",
      "                                                                 \n",
      " dense_1 (Dense)             (None, 10)                210       \n",
      "                                                                 \n",
      " dense_2 (Dense)             (None, 4)                 44        \n",
      "                                                                 \n",
      "=================================================================\n",
      "Total params: 1114 (4.35 KB)\n",
      "Trainable params: 1114 (4.35 KB)\n",
      "Non-trainable params: 0 (0.00 Byte)\n",
      "_________________________________________________________________\n"
     ]
    }
   ],
   "source": [
    "model.summary()  # tf.keras.utils.plot_model(model, show_shapes=True)"
   ]
  },
  {
   "cell_type": "code",
   "execution_count": 9,
   "metadata": {
    "id": "MbMjOflQ9hE1"
   },
   "outputs": [],
   "source": [
    "# Model checkpoint callback\n",
    "cp_callback = tf.keras.callbacks.ModelCheckpoint(\n",
    "    model_save_path, verbose=1, save_weights_only=False)\n",
    "# Callback for early stopping\n",
    "es_callback = tf.keras.callbacks.EarlyStopping(patience=20, verbose=1)"
   ]
  },
  {
   "cell_type": "code",
   "execution_count": 10,
   "metadata": {
    "id": "c3Dac0M_9hE2"
   },
   "outputs": [],
   "source": [
    "# Model compilation\n",
    "model.compile(\n",
    "    optimizer='adam',\n",
    "    loss='sparse_categorical_crossentropy',\n",
    "    metrics=['accuracy']\n",
    ")"
   ]
  },
  {
   "cell_type": "markdown",
   "metadata": {
    "id": "7XI0j1Iu9hE2"
   },
   "source": [
    "# Model training"
   ]
  },
  {
   "cell_type": "code",
   "execution_count": 11,
   "metadata": {
    "colab": {
     "base_uri": "https://localhost:8080/"
    },
    "id": "WirBl-JE9hE3",
    "outputId": "71b30ca2-8294-4d9d-8aa2-800d90d399de",
    "scrolled": true
   },
   "outputs": [
    {
     "name": "stdout",
     "output_type": "stream",
     "text": [
      "Epoch 1/1000\n",
      " 1/29 [>.............................] - ETA: 4s - loss: 1.5686 - accuracy: 0.2422\n",
      "Epoch 1: saving model to model/keypoint_classifier/keypoint_classifier.hdf5\n",
      "29/29 [==============================] - 0s 3ms/step - loss: 1.4526 - accuracy: 0.2963 - val_loss: 1.3132 - val_accuracy: 0.3611\n",
      "Epoch 2/1000\n",
      " 1/29 [>.............................] - ETA: 0s - loss: 1.3481 - accuracy: 0.3750\n",
      "Epoch 2: saving model to model/keypoint_classifier/keypoint_classifier.hdf5\n",
      "29/29 [==============================] - 0s 966us/step - loss: 1.3166 - accuracy: 0.3532 - val_loss: 1.2431 - val_accuracy: 0.3993\n",
      "Epoch 3/1000\n",
      " 1/29 [>.............................] - ETA: 0s - loss: 1.3290 - accuracy: 0.2969\n",
      "Epoch 3: saving model to model/keypoint_classifier/keypoint_classifier.hdf5\n",
      "29/29 [==============================] - 0s 995us/step - loss: 1.2501 - accuracy: 0.3765 - val_loss: 1.1719 - val_accuracy: 0.5266\n",
      "Epoch 4/1000\n",
      " 1/29 [>.............................] - ETA: 0s - loss: 1.1738 - accuracy: 0.4062\n",
      "Epoch 4: saving model to model/keypoint_classifier/keypoint_classifier.hdf5\n",
      "29/29 [==============================] - 0s 995us/step - loss: 1.2054 - accuracy: 0.4104 - val_loss: 1.1107 - val_accuracy: 0.5840\n",
      "Epoch 5/1000\n",
      " 1/29 [>.............................] - ETA: 0s - loss: 1.1377 - accuracy: 0.4844\n",
      "Epoch 5: saving model to model/keypoint_classifier/keypoint_classifier.hdf5\n",
      "29/29 [==============================] - 0s 970us/step - loss: 1.1510 - accuracy: 0.4470 - val_loss: 1.0503 - val_accuracy: 0.6115\n",
      "Epoch 6/1000\n",
      " 1/29 [>.............................] - ETA: 0s - loss: 1.0839 - accuracy: 0.5391\n",
      "Epoch 6: saving model to model/keypoint_classifier/keypoint_classifier.hdf5\n",
      "29/29 [==============================] - 0s 949us/step - loss: 1.1148 - accuracy: 0.4828 - val_loss: 0.9985 - val_accuracy: 0.6905\n",
      "Epoch 7/1000\n",
      " 1/29 [>.............................] - ETA: 0s - loss: 1.1378 - accuracy: 0.5078\n",
      "Epoch 7: saving model to model/keypoint_classifier/keypoint_classifier.hdf5\n",
      "29/29 [==============================] - 0s 931us/step - loss: 1.0823 - accuracy: 0.5172 - val_loss: 0.9504 - val_accuracy: 0.7255\n",
      "Epoch 8/1000\n",
      " 1/29 [>.............................] - ETA: 0s - loss: 1.0313 - accuracy: 0.5781"
     ]
    },
    {
     "name": "stderr",
     "output_type": "stream",
     "text": [
      "/Users/rayhanmohammad/anaconda3/lib/python3.11/site-packages/keras/src/engine/training.py:3103: UserWarning: You are saving your model as an HDF5 file via `model.save()`. This file format is considered legacy. We recommend using instead the native Keras format, e.g. `model.save('my_model.keras')`.\n",
      "  saving_api.save_model(\n"
     ]
    },
    {
     "name": "stdout",
     "output_type": "stream",
     "text": [
      "\n",
      "Epoch 8: saving model to model/keypoint_classifier/keypoint_classifier.hdf5\n",
      "29/29 [==============================] - 0s 943us/step - loss: 1.0502 - accuracy: 0.5325 - val_loss: 0.9066 - val_accuracy: 0.7171\n",
      "Epoch 9/1000\n",
      " 1/29 [>.............................] - ETA: 0s - loss: 1.0206 - accuracy: 0.5156\n",
      "Epoch 9: saving model to model/keypoint_classifier/keypoint_classifier.hdf5\n",
      "29/29 [==============================] - 0s 946us/step - loss: 1.0225 - accuracy: 0.5447 - val_loss: 0.8592 - val_accuracy: 0.7429\n",
      "Epoch 10/1000\n",
      " 1/29 [>.............................] - ETA: 0s - loss: 0.9325 - accuracy: 0.5547\n",
      "Epoch 10: saving model to model/keypoint_classifier/keypoint_classifier.hdf5\n",
      "29/29 [==============================] - 0s 944us/step - loss: 0.9929 - accuracy: 0.5538 - val_loss: 0.8196 - val_accuracy: 0.7496\n",
      "Epoch 11/1000\n",
      " 1/29 [>.............................] - ETA: 0s - loss: 0.9815 - accuracy: 0.5391\n",
      "Epoch 11: saving model to model/keypoint_classifier/keypoint_classifier.hdf5\n",
      "29/29 [==============================] - 0s 904us/step - loss: 0.9603 - accuracy: 0.5746 - val_loss: 0.7763 - val_accuracy: 0.7512\n",
      "Epoch 12/1000\n",
      " 1/29 [>.............................] - ETA: 0s - loss: 0.9346 - accuracy: 0.6406\n",
      "Epoch 12: saving model to model/keypoint_classifier/keypoint_classifier.hdf5\n",
      "29/29 [==============================] - 0s 921us/step - loss: 0.9370 - accuracy: 0.5785 - val_loss: 0.7415 - val_accuracy: 0.7696\n",
      "Epoch 13/1000\n",
      " 1/29 [>.............................] - ETA: 0s - loss: 0.9463 - accuracy: 0.6016\n",
      "Epoch 13: saving model to model/keypoint_classifier/keypoint_classifier.hdf5\n",
      "29/29 [==============================] - 0s 919us/step - loss: 0.9194 - accuracy: 0.5788 - val_loss: 0.6991 - val_accuracy: 0.7953\n",
      "Epoch 14/1000\n",
      " 1/29 [>.............................] - ETA: 0s - loss: 0.8935 - accuracy: 0.6328\n",
      "Epoch 14: saving model to model/keypoint_classifier/keypoint_classifier.hdf5\n",
      "29/29 [==============================] - 0s 922us/step - loss: 0.8825 - accuracy: 0.6124 - val_loss: 0.6648 - val_accuracy: 0.8236\n",
      "Epoch 15/1000\n",
      " 1/29 [>.............................] - ETA: 0s - loss: 0.8955 - accuracy: 0.6172\n",
      "Epoch 15: saving model to model/keypoint_classifier/keypoint_classifier.hdf5\n",
      "29/29 [==============================] - 0s 1ms/step - loss: 0.8415 - accuracy: 0.6346 - val_loss: 0.6210 - val_accuracy: 0.8527\n",
      "Epoch 16/1000\n",
      " 1/29 [>.............................] - ETA: 0s - loss: 0.8558 - accuracy: 0.6562\n",
      "Epoch 16: saving model to model/keypoint_classifier/keypoint_classifier.hdf5\n",
      "29/29 [==============================] - 0s 938us/step - loss: 0.8267 - accuracy: 0.6379 - val_loss: 0.5967 - val_accuracy: 0.8852\n",
      "Epoch 17/1000\n",
      " 1/29 [>.............................] - ETA: 0s - loss: 0.8709 - accuracy: 0.6250\n",
      "Epoch 17: saving model to model/keypoint_classifier/keypoint_classifier.hdf5\n",
      "29/29 [==============================] - 0s 928us/step - loss: 0.8155 - accuracy: 0.6448 - val_loss: 0.5741 - val_accuracy: 0.8835\n",
      "Epoch 18/1000\n",
      " 1/29 [>.............................] - ETA: 0s - loss: 0.7727 - accuracy: 0.6719\n",
      "Epoch 18: saving model to model/keypoint_classifier/keypoint_classifier.hdf5\n",
      "29/29 [==============================] - 0s 942us/step - loss: 0.8003 - accuracy: 0.6465 - val_loss: 0.5478 - val_accuracy: 0.9018\n",
      "Epoch 19/1000\n",
      " 1/29 [>.............................] - ETA: 0s - loss: 0.7687 - accuracy: 0.7109\n",
      "Epoch 19: saving model to model/keypoint_classifier/keypoint_classifier.hdf5\n",
      "29/29 [==============================] - 0s 928us/step - loss: 0.7818 - accuracy: 0.6656 - val_loss: 0.5305 - val_accuracy: 0.9201\n",
      "Epoch 20/1000\n",
      " 1/29 [>.............................] - ETA: 0s - loss: 0.7397 - accuracy: 0.6875\n",
      "Epoch 20: saving model to model/keypoint_classifier/keypoint_classifier.hdf5\n",
      "29/29 [==============================] - 0s 934us/step - loss: 0.7742 - accuracy: 0.6620 - val_loss: 0.5092 - val_accuracy: 0.9160\n",
      "Epoch 21/1000\n",
      " 1/29 [>.............................] - ETA: 0s - loss: 0.8261 - accuracy: 0.6094\n",
      "Epoch 21: saving model to model/keypoint_classifier/keypoint_classifier.hdf5\n",
      "29/29 [==============================] - 0s 906us/step - loss: 0.7478 - accuracy: 0.6795 - val_loss: 0.4900 - val_accuracy: 0.9193\n",
      "Epoch 22/1000\n",
      " 1/29 [>.............................] - ETA: 0s - loss: 0.7644 - accuracy: 0.6875\n",
      "Epoch 22: saving model to model/keypoint_classifier/keypoint_classifier.hdf5\n",
      "29/29 [==============================] - 0s 906us/step - loss: 0.7286 - accuracy: 0.6912 - val_loss: 0.4736 - val_accuracy: 0.9251\n",
      "Epoch 23/1000\n",
      " 1/29 [>.............................] - ETA: 0s - loss: 0.8049 - accuracy: 0.6484\n",
      "Epoch 23: saving model to model/keypoint_classifier/keypoint_classifier.hdf5\n",
      "29/29 [==============================] - 0s 977us/step - loss: 0.7471 - accuracy: 0.6804 - val_loss: 0.4617 - val_accuracy: 0.9251\n",
      "Epoch 24/1000\n",
      " 1/29 [>.............................] - ETA: 0s - loss: 0.7965 - accuracy: 0.6641\n",
      "Epoch 24: saving model to model/keypoint_classifier/keypoint_classifier.hdf5\n",
      "29/29 [==============================] - 0s 951us/step - loss: 0.7207 - accuracy: 0.6942 - val_loss: 0.4511 - val_accuracy: 0.9268\n",
      "Epoch 25/1000\n",
      " 1/29 [>.............................] - ETA: 0s - loss: 0.7054 - accuracy: 0.6875\n",
      "Epoch 25: saving model to model/keypoint_classifier/keypoint_classifier.hdf5\n",
      "29/29 [==============================] - 0s 947us/step - loss: 0.7164 - accuracy: 0.6970 - val_loss: 0.4381 - val_accuracy: 0.9260\n",
      "Epoch 26/1000\n",
      " 1/29 [>.............................] - ETA: 0s - loss: 0.6840 - accuracy: 0.7578\n",
      "Epoch 26: saving model to model/keypoint_classifier/keypoint_classifier.hdf5\n",
      "29/29 [==============================] - 0s 986us/step - loss: 0.6858 - accuracy: 0.7148 - val_loss: 0.4230 - val_accuracy: 0.9251\n",
      "Epoch 27/1000\n",
      " 1/29 [>.............................] - ETA: 0s - loss: 0.7708 - accuracy: 0.6797\n",
      "Epoch 27: saving model to model/keypoint_classifier/keypoint_classifier.hdf5\n",
      "29/29 [==============================] - 0s 961us/step - loss: 0.7139 - accuracy: 0.7006 - val_loss: 0.4135 - val_accuracy: 0.9351\n",
      "Epoch 28/1000\n",
      " 1/29 [>.............................] - ETA: 0s - loss: 0.6403 - accuracy: 0.7266\n",
      "Epoch 28: saving model to model/keypoint_classifier/keypoint_classifier.hdf5\n",
      "29/29 [==============================] - 0s 955us/step - loss: 0.6942 - accuracy: 0.7098 - val_loss: 0.4108 - val_accuracy: 0.9393\n",
      "Epoch 29/1000\n",
      " 1/29 [>.............................] - ETA: 0s - loss: 0.5600 - accuracy: 0.7891\n",
      "Epoch 29: saving model to model/keypoint_classifier/keypoint_classifier.hdf5\n",
      "29/29 [==============================] - 0s 934us/step - loss: 0.6532 - accuracy: 0.7200 - val_loss: 0.3970 - val_accuracy: 0.9393\n",
      "Epoch 30/1000\n",
      " 1/29 [>.............................] - ETA: 0s - loss: 0.7400 - accuracy: 0.6641\n",
      "Epoch 30: saving model to model/keypoint_classifier/keypoint_classifier.hdf5\n",
      "29/29 [==============================] - 0s 968us/step - loss: 0.6758 - accuracy: 0.7209 - val_loss: 0.3897 - val_accuracy: 0.9376\n",
      "Epoch 31/1000\n",
      " 1/29 [>.............................] - ETA: 0s - loss: 0.7081 - accuracy: 0.7344\n",
      "Epoch 31: saving model to model/keypoint_classifier/keypoint_classifier.hdf5\n",
      "29/29 [==============================] - 0s 973us/step - loss: 0.6591 - accuracy: 0.7378 - val_loss: 0.3766 - val_accuracy: 0.9368\n",
      "Epoch 32/1000\n",
      " 1/29 [>.............................] - ETA: 0s - loss: 0.6188 - accuracy: 0.7578\n",
      "Epoch 32: saving model to model/keypoint_classifier/keypoint_classifier.hdf5\n",
      "29/29 [==============================] - 0s 966us/step - loss: 0.6563 - accuracy: 0.7195 - val_loss: 0.3668 - val_accuracy: 0.9401\n",
      "Epoch 33/1000\n",
      " 1/29 [>.............................] - ETA: 0s - loss: 0.5936 - accuracy: 0.7578\n",
      "Epoch 33: saving model to model/keypoint_classifier/keypoint_classifier.hdf5\n",
      "29/29 [==============================] - 0s 1ms/step - loss: 0.6560 - accuracy: 0.7325 - val_loss: 0.3611 - val_accuracy: 0.9359\n",
      "Epoch 34/1000\n",
      " 1/29 [>.............................] - ETA: 0s - loss: 0.5520 - accuracy: 0.7812\n",
      "Epoch 34: saving model to model/keypoint_classifier/keypoint_classifier.hdf5\n",
      "29/29 [==============================] - 0s 958us/step - loss: 0.6563 - accuracy: 0.7236 - val_loss: 0.3577 - val_accuracy: 0.9359\n",
      "Epoch 35/1000\n"
     ]
    },
    {
     "name": "stdout",
     "output_type": "stream",
     "text": [
      " 1/29 [>.............................] - ETA: 0s - loss: 0.6086 - accuracy: 0.7734\n",
      "Epoch 35: saving model to model/keypoint_classifier/keypoint_classifier.hdf5\n",
      "29/29 [==============================] - 0s 968us/step - loss: 0.6494 - accuracy: 0.7292 - val_loss: 0.3582 - val_accuracy: 0.9393\n",
      "Epoch 36/1000\n",
      " 1/29 [>.............................] - ETA: 0s - loss: 0.7568 - accuracy: 0.6875\n",
      "Epoch 36: saving model to model/keypoint_classifier/keypoint_classifier.hdf5\n",
      "29/29 [==============================] - 0s 944us/step - loss: 0.6316 - accuracy: 0.7389 - val_loss: 0.3473 - val_accuracy: 0.9351\n",
      "Epoch 37/1000\n",
      " 1/29 [>.............................] - ETA: 0s - loss: 0.6755 - accuracy: 0.7188\n",
      "Epoch 37: saving model to model/keypoint_classifier/keypoint_classifier.hdf5\n",
      "29/29 [==============================] - 0s 904us/step - loss: 0.6401 - accuracy: 0.7281 - val_loss: 0.3422 - val_accuracy: 0.9376\n",
      "Epoch 38/1000\n",
      " 1/29 [>.............................] - ETA: 0s - loss: 0.7128 - accuracy: 0.6797\n",
      "Epoch 38: saving model to model/keypoint_classifier/keypoint_classifier.hdf5\n",
      "29/29 [==============================] - 0s 946us/step - loss: 0.6176 - accuracy: 0.7511 - val_loss: 0.3356 - val_accuracy: 0.9434\n",
      "Epoch 39/1000\n",
      " 1/29 [>.............................] - ETA: 0s - loss: 0.7303 - accuracy: 0.6797\n",
      "Epoch 39: saving model to model/keypoint_classifier/keypoint_classifier.hdf5\n",
      "29/29 [==============================] - 0s 910us/step - loss: 0.6238 - accuracy: 0.7461 - val_loss: 0.3310 - val_accuracy: 0.9359\n",
      "Epoch 40/1000\n",
      " 1/29 [>.............................] - ETA: 0s - loss: 0.6138 - accuracy: 0.7422\n",
      "Epoch 40: saving model to model/keypoint_classifier/keypoint_classifier.hdf5\n",
      "29/29 [==============================] - 0s 911us/step - loss: 0.6162 - accuracy: 0.7478 - val_loss: 0.3281 - val_accuracy: 0.9368\n",
      "Epoch 41/1000\n",
      " 1/29 [>.............................] - ETA: 0s - loss: 0.7249 - accuracy: 0.6953\n",
      "Epoch 41: saving model to model/keypoint_classifier/keypoint_classifier.hdf5\n",
      "29/29 [==============================] - 0s 939us/step - loss: 0.6238 - accuracy: 0.7456 - val_loss: 0.3261 - val_accuracy: 0.9326\n",
      "Epoch 42/1000\n",
      " 1/29 [>.............................] - ETA: 0s - loss: 0.4789 - accuracy: 0.8359\n",
      "Epoch 42: saving model to model/keypoint_classifier/keypoint_classifier.hdf5\n",
      "29/29 [==============================] - 0s 935us/step - loss: 0.6076 - accuracy: 0.7539 - val_loss: 0.3144 - val_accuracy: 0.9451\n",
      "Epoch 43/1000\n",
      " 1/29 [>.............................] - ETA: 0s - loss: 0.5168 - accuracy: 0.8281\n",
      "Epoch 43: saving model to model/keypoint_classifier/keypoint_classifier.hdf5\n",
      "29/29 [==============================] - 0s 933us/step - loss: 0.6022 - accuracy: 0.7603 - val_loss: 0.3105 - val_accuracy: 0.9451\n",
      "Epoch 44/1000\n",
      " 1/29 [>.............................] - ETA: 0s - loss: 0.7209 - accuracy: 0.7109\n",
      "Epoch 44: saving model to model/keypoint_classifier/keypoint_classifier.hdf5\n",
      "29/29 [==============================] - 0s 927us/step - loss: 0.6175 - accuracy: 0.7533 - val_loss: 0.3121 - val_accuracy: 0.9451\n",
      "Epoch 45/1000\n",
      " 1/29 [>.............................] - ETA: 0s - loss: 0.5813 - accuracy: 0.7500\n",
      "Epoch 45: saving model to model/keypoint_classifier/keypoint_classifier.hdf5\n",
      "29/29 [==============================] - 0s 935us/step - loss: 0.6082 - accuracy: 0.7514 - val_loss: 0.3066 - val_accuracy: 0.9493\n",
      "Epoch 46/1000\n",
      " 1/29 [>.............................] - ETA: 0s - loss: 0.6048 - accuracy: 0.7812\n",
      "Epoch 46: saving model to model/keypoint_classifier/keypoint_classifier.hdf5\n",
      "29/29 [==============================] - 0s 937us/step - loss: 0.5957 - accuracy: 0.7658 - val_loss: 0.2981 - val_accuracy: 0.9451\n",
      "Epoch 47/1000\n",
      " 1/29 [>.............................] - ETA: 0s - loss: 0.7472 - accuracy: 0.6797\n",
      "Epoch 47: saving model to model/keypoint_classifier/keypoint_classifier.hdf5\n",
      "29/29 [==============================] - 0s 925us/step - loss: 0.6108 - accuracy: 0.7605 - val_loss: 0.2948 - val_accuracy: 0.9501\n",
      "Epoch 48/1000\n",
      " 1/29 [>.............................] - ETA: 0s - loss: 0.6293 - accuracy: 0.7344\n",
      "Epoch 48: saving model to model/keypoint_classifier/keypoint_classifier.hdf5\n",
      "29/29 [==============================] - 0s 939us/step - loss: 0.5928 - accuracy: 0.7658 - val_loss: 0.3004 - val_accuracy: 0.9418\n",
      "Epoch 49/1000\n",
      " 1/29 [>.............................] - ETA: 0s - loss: 0.5961 - accuracy: 0.7344\n",
      "Epoch 49: saving model to model/keypoint_classifier/keypoint_classifier.hdf5\n",
      "29/29 [==============================] - 0s 950us/step - loss: 0.5958 - accuracy: 0.7619 - val_loss: 0.2969 - val_accuracy: 0.9443\n",
      "Epoch 50/1000\n",
      " 1/29 [>.............................] - ETA: 0s - loss: 0.4993 - accuracy: 0.8125\n",
      "Epoch 50: saving model to model/keypoint_classifier/keypoint_classifier.hdf5\n",
      "29/29 [==============================] - 0s 938us/step - loss: 0.6019 - accuracy: 0.7614 - val_loss: 0.2956 - val_accuracy: 0.9459\n",
      "Epoch 51/1000\n",
      " 1/29 [>.............................] - ETA: 0s - loss: 0.5573 - accuracy: 0.7500\n",
      "Epoch 51: saving model to model/keypoint_classifier/keypoint_classifier.hdf5\n",
      "29/29 [==============================] - 0s 922us/step - loss: 0.5781 - accuracy: 0.7694 - val_loss: 0.2888 - val_accuracy: 0.9459\n",
      "Epoch 52/1000\n",
      " 1/29 [>.............................] - ETA: 0s - loss: 0.5348 - accuracy: 0.8047\n",
      "Epoch 52: saving model to model/keypoint_classifier/keypoint_classifier.hdf5\n",
      "29/29 [==============================] - 0s 922us/step - loss: 0.5908 - accuracy: 0.7622 - val_loss: 0.2854 - val_accuracy: 0.9493\n",
      "Epoch 53/1000\n",
      " 1/29 [>.............................] - ETA: 0s - loss: 0.5462 - accuracy: 0.7891\n",
      "Epoch 53: saving model to model/keypoint_classifier/keypoint_classifier.hdf5\n",
      "29/29 [==============================] - 0s 941us/step - loss: 0.5934 - accuracy: 0.7608 - val_loss: 0.2817 - val_accuracy: 0.9526\n",
      "Epoch 54/1000\n",
      " 1/29 [>.............................] - ETA: 0s - loss: 0.5581 - accuracy: 0.7969\n",
      "Epoch 54: saving model to model/keypoint_classifier/keypoint_classifier.hdf5\n",
      "29/29 [==============================] - 0s 958us/step - loss: 0.5854 - accuracy: 0.7716 - val_loss: 0.2821 - val_accuracy: 0.9517\n",
      "Epoch 55/1000\n",
      " 1/29 [>.............................] - ETA: 0s - loss: 0.5051 - accuracy: 0.7656\n",
      "Epoch 55: saving model to model/keypoint_classifier/keypoint_classifier.hdf5\n",
      "29/29 [==============================] - 0s 942us/step - loss: 0.5700 - accuracy: 0.7666 - val_loss: 0.2768 - val_accuracy: 0.9542\n",
      "Epoch 56/1000\n",
      " 1/29 [>.............................] - ETA: 0s - loss: 0.5968 - accuracy: 0.7969\n",
      "Epoch 56: saving model to model/keypoint_classifier/keypoint_classifier.hdf5\n",
      "29/29 [==============================] - 0s 930us/step - loss: 0.5564 - accuracy: 0.7888 - val_loss: 0.2696 - val_accuracy: 0.9493\n",
      "Epoch 57/1000\n",
      " 1/29 [>.............................] - ETA: 0s - loss: 0.5275 - accuracy: 0.8047\n",
      "Epoch 57: saving model to model/keypoint_classifier/keypoint_classifier.hdf5\n",
      "29/29 [==============================] - 0s 947us/step - loss: 0.5647 - accuracy: 0.7800 - val_loss: 0.2686 - val_accuracy: 0.9493\n",
      "Epoch 58/1000\n",
      " 1/29 [>.............................] - ETA: 0s - loss: 0.4803 - accuracy: 0.8359\n",
      "Epoch 58: saving model to model/keypoint_classifier/keypoint_classifier.hdf5\n",
      "29/29 [==============================] - 0s 970us/step - loss: 0.5552 - accuracy: 0.7900 - val_loss: 0.2625 - val_accuracy: 0.9509\n",
      "Epoch 59/1000\n",
      " 1/29 [>.............................] - ETA: 0s - loss: 0.5353 - accuracy: 0.7812\n",
      "Epoch 59: saving model to model/keypoint_classifier/keypoint_classifier.hdf5\n",
      "29/29 [==============================] - 0s 942us/step - loss: 0.5525 - accuracy: 0.7825 - val_loss: 0.2602 - val_accuracy: 0.9517\n",
      "Epoch 60/1000\n",
      " 1/29 [>.............................] - ETA: 0s - loss: 0.6066 - accuracy: 0.7422\n",
      "Epoch 60: saving model to model/keypoint_classifier/keypoint_classifier.hdf5\n",
      "29/29 [==============================] - 0s 926us/step - loss: 0.5750 - accuracy: 0.7755 - val_loss: 0.2607 - val_accuracy: 0.9551\n",
      "Epoch 61/1000\n",
      " 1/29 [>.............................] - ETA: 0s - loss: 0.5331 - accuracy: 0.8203\n",
      "Epoch 61: saving model to model/keypoint_classifier/keypoint_classifier.hdf5\n",
      "29/29 [==============================] - 0s 922us/step - loss: 0.5728 - accuracy: 0.7697 - val_loss: 0.2629 - val_accuracy: 0.9551\n"
     ]
    },
    {
     "name": "stdout",
     "output_type": "stream",
     "text": [
      "Epoch 62/1000\n",
      " 1/29 [>.............................] - ETA: 0s - loss: 0.6019 - accuracy: 0.7500\n",
      "Epoch 62: saving model to model/keypoint_classifier/keypoint_classifier.hdf5\n",
      "29/29 [==============================] - 0s 946us/step - loss: 0.5708 - accuracy: 0.7786 - val_loss: 0.2638 - val_accuracy: 0.9468\n",
      "Epoch 63/1000\n",
      " 1/29 [>.............................] - ETA: 0s - loss: 0.5214 - accuracy: 0.7891\n",
      "Epoch 63: saving model to model/keypoint_classifier/keypoint_classifier.hdf5\n",
      "29/29 [==============================] - 0s 959us/step - loss: 0.5546 - accuracy: 0.7725 - val_loss: 0.2576 - val_accuracy: 0.9476\n",
      "Epoch 64/1000\n",
      " 1/29 [>.............................] - ETA: 0s - loss: 0.7042 - accuracy: 0.7891\n",
      "Epoch 64: saving model to model/keypoint_classifier/keypoint_classifier.hdf5\n",
      "29/29 [==============================] - 0s 928us/step - loss: 0.5737 - accuracy: 0.7764 - val_loss: 0.2654 - val_accuracy: 0.9434\n",
      "Epoch 65/1000\n",
      " 1/29 [>.............................] - ETA: 0s - loss: 0.5773 - accuracy: 0.7422\n",
      "Epoch 65: saving model to model/keypoint_classifier/keypoint_classifier.hdf5\n",
      "29/29 [==============================] - 0s 920us/step - loss: 0.5519 - accuracy: 0.7814 - val_loss: 0.2607 - val_accuracy: 0.9476\n",
      "Epoch 66/1000\n",
      " 1/29 [>.............................] - ETA: 0s - loss: 0.5397 - accuracy: 0.8281\n",
      "Epoch 66: saving model to model/keypoint_classifier/keypoint_classifier.hdf5\n",
      "29/29 [==============================] - 0s 930us/step - loss: 0.5685 - accuracy: 0.7819 - val_loss: 0.2597 - val_accuracy: 0.9459\n",
      "Epoch 67/1000\n",
      " 1/29 [>.............................] - ETA: 0s - loss: 0.5568 - accuracy: 0.7891\n",
      "Epoch 67: saving model to model/keypoint_classifier/keypoint_classifier.hdf5\n",
      "29/29 [==============================] - 0s 926us/step - loss: 0.5684 - accuracy: 0.7786 - val_loss: 0.2557 - val_accuracy: 0.9476\n",
      "Epoch 68/1000\n",
      " 1/29 [>.............................] - ETA: 0s - loss: 0.5107 - accuracy: 0.8203\n",
      "Epoch 68: saving model to model/keypoint_classifier/keypoint_classifier.hdf5\n",
      "29/29 [==============================] - 0s 925us/step - loss: 0.5562 - accuracy: 0.7830 - val_loss: 0.2494 - val_accuracy: 0.9517\n",
      "Epoch 69/1000\n",
      " 1/29 [>.............................] - ETA: 0s - loss: 0.5334 - accuracy: 0.7969\n",
      "Epoch 69: saving model to model/keypoint_classifier/keypoint_classifier.hdf5\n",
      "29/29 [==============================] - 0s 924us/step - loss: 0.5588 - accuracy: 0.7728 - val_loss: 0.2557 - val_accuracy: 0.9534\n",
      "Epoch 70/1000\n",
      " 1/29 [>.............................] - ETA: 0s - loss: 0.5671 - accuracy: 0.7578\n",
      "Epoch 70: saving model to model/keypoint_classifier/keypoint_classifier.hdf5\n",
      "29/29 [==============================] - 0s 1ms/step - loss: 0.5228 - accuracy: 0.7919 - val_loss: 0.2463 - val_accuracy: 0.9509\n",
      "Epoch 71/1000\n",
      " 1/29 [>.............................] - ETA: 0s - loss: 0.5754 - accuracy: 0.7734\n",
      "Epoch 71: saving model to model/keypoint_classifier/keypoint_classifier.hdf5\n",
      "29/29 [==============================] - 0s 950us/step - loss: 0.5601 - accuracy: 0.7797 - val_loss: 0.2414 - val_accuracy: 0.9559\n",
      "Epoch 72/1000\n",
      " 1/29 [>.............................] - ETA: 0s - loss: 0.6633 - accuracy: 0.7734\n",
      "Epoch 72: saving model to model/keypoint_classifier/keypoint_classifier.hdf5\n",
      "29/29 [==============================] - 0s 945us/step - loss: 0.5562 - accuracy: 0.7822 - val_loss: 0.2458 - val_accuracy: 0.9559\n",
      "Epoch 73/1000\n",
      " 1/29 [>.............................] - ETA: 0s - loss: 0.4988 - accuracy: 0.8281\n",
      "Epoch 73: saving model to model/keypoint_classifier/keypoint_classifier.hdf5\n",
      "29/29 [==============================] - 0s 935us/step - loss: 0.5344 - accuracy: 0.7919 - val_loss: 0.2400 - val_accuracy: 0.9542\n",
      "Epoch 74/1000\n",
      " 1/29 [>.............................] - ETA: 0s - loss: 0.4765 - accuracy: 0.8281\n",
      "Epoch 74: saving model to model/keypoint_classifier/keypoint_classifier.hdf5\n",
      "29/29 [==============================] - 0s 923us/step - loss: 0.5594 - accuracy: 0.7844 - val_loss: 0.2401 - val_accuracy: 0.9576\n",
      "Epoch 75/1000\n",
      " 1/29 [>.............................] - ETA: 0s - loss: 0.5876 - accuracy: 0.7500\n",
      "Epoch 75: saving model to model/keypoint_classifier/keypoint_classifier.hdf5\n",
      "29/29 [==============================] - 0s 919us/step - loss: 0.5561 - accuracy: 0.7741 - val_loss: 0.2429 - val_accuracy: 0.9534\n",
      "Epoch 76/1000\n",
      " 1/29 [>.............................] - ETA: 0s - loss: 0.5552 - accuracy: 0.7344\n",
      "Epoch 76: saving model to model/keypoint_classifier/keypoint_classifier.hdf5\n",
      "29/29 [==============================] - 0s 926us/step - loss: 0.5366 - accuracy: 0.7902 - val_loss: 0.2450 - val_accuracy: 0.9509\n",
      "Epoch 77/1000\n",
      " 1/29 [>.............................] - ETA: 0s - loss: 0.5044 - accuracy: 0.8125\n",
      "Epoch 77: saving model to model/keypoint_classifier/keypoint_classifier.hdf5\n",
      "29/29 [==============================] - 0s 929us/step - loss: 0.5429 - accuracy: 0.7841 - val_loss: 0.2443 - val_accuracy: 0.9517\n",
      "Epoch 78/1000\n",
      " 1/29 [>.............................] - ETA: 0s - loss: 0.6227 - accuracy: 0.7422\n",
      "Epoch 78: saving model to model/keypoint_classifier/keypoint_classifier.hdf5\n",
      "29/29 [==============================] - 0s 941us/step - loss: 0.5545 - accuracy: 0.7855 - val_loss: 0.2387 - val_accuracy: 0.9484\n",
      "Epoch 79/1000\n",
      " 1/29 [>.............................] - ETA: 0s - loss: 0.5783 - accuracy: 0.7656\n",
      "Epoch 79: saving model to model/keypoint_classifier/keypoint_classifier.hdf5\n",
      "29/29 [==============================] - 0s 951us/step - loss: 0.5578 - accuracy: 0.7814 - val_loss: 0.2392 - val_accuracy: 0.9534\n",
      "Epoch 80/1000\n",
      " 1/29 [>.............................] - ETA: 0s - loss: 0.5135 - accuracy: 0.7656\n",
      "Epoch 80: saving model to model/keypoint_classifier/keypoint_classifier.hdf5\n",
      "29/29 [==============================] - 0s 957us/step - loss: 0.5256 - accuracy: 0.7916 - val_loss: 0.2355 - val_accuracy: 0.9534\n",
      "Epoch 81/1000\n",
      " 1/29 [>.............................] - ETA: 0s - loss: 0.4396 - accuracy: 0.8672\n",
      "Epoch 81: saving model to model/keypoint_classifier/keypoint_classifier.hdf5\n",
      "29/29 [==============================] - 0s 952us/step - loss: 0.5396 - accuracy: 0.7888 - val_loss: 0.2400 - val_accuracy: 0.9459\n",
      "Epoch 82/1000\n",
      " 1/29 [>.............................] - ETA: 0s - loss: 0.5382 - accuracy: 0.8047\n",
      "Epoch 82: saving model to model/keypoint_classifier/keypoint_classifier.hdf5\n",
      "29/29 [==============================] - 0s 920us/step - loss: 0.5482 - accuracy: 0.7869 - val_loss: 0.2351 - val_accuracy: 0.9559\n",
      "Epoch 83/1000\n",
      " 1/29 [>.............................] - ETA: 0s - loss: 0.4209 - accuracy: 0.8594\n",
      "Epoch 83: saving model to model/keypoint_classifier/keypoint_classifier.hdf5\n",
      "29/29 [==============================] - 0s 946us/step - loss: 0.5511 - accuracy: 0.7822 - val_loss: 0.2346 - val_accuracy: 0.9584\n",
      "Epoch 84/1000\n",
      " 1/29 [>.............................] - ETA: 0s - loss: 0.5900 - accuracy: 0.7656\n",
      "Epoch 84: saving model to model/keypoint_classifier/keypoint_classifier.hdf5\n",
      "29/29 [==============================] - 0s 941us/step - loss: 0.5317 - accuracy: 0.7972 - val_loss: 0.2355 - val_accuracy: 0.9567\n",
      "Epoch 85/1000\n",
      " 1/29 [>.............................] - ETA: 0s - loss: 0.5872 - accuracy: 0.7812\n",
      "Epoch 85: saving model to model/keypoint_classifier/keypoint_classifier.hdf5\n",
      "29/29 [==============================] - 0s 964us/step - loss: 0.5462 - accuracy: 0.7911 - val_loss: 0.2374 - val_accuracy: 0.9584\n",
      "Epoch 86/1000\n",
      " 1/29 [>.............................] - ETA: 0s - loss: 0.5721 - accuracy: 0.7656\n",
      "Epoch 86: saving model to model/keypoint_classifier/keypoint_classifier.hdf5\n",
      "29/29 [==============================] - 0s 941us/step - loss: 0.5295 - accuracy: 0.7938 - val_loss: 0.2341 - val_accuracy: 0.9592\n",
      "Epoch 87/1000\n",
      " 1/29 [>.............................] - ETA: 0s - loss: 0.5424 - accuracy: 0.7812\n",
      "Epoch 87: saving model to model/keypoint_classifier/keypoint_classifier.hdf5\n",
      "29/29 [==============================] - 0s 937us/step - loss: 0.5240 - accuracy: 0.7966 - val_loss: 0.2307 - val_accuracy: 0.9592\n",
      "Epoch 88/1000\n",
      " 1/29 [>.............................] - ETA: 0s - loss: 0.5723 - accuracy: 0.7578\n",
      "Epoch 88: saving model to model/keypoint_classifier/keypoint_classifier.hdf5\n",
      "29/29 [==============================] - 0s 944us/step - loss: 0.5371 - accuracy: 0.7894 - val_loss: 0.2338 - val_accuracy: 0.9493\n"
     ]
    },
    {
     "name": "stdout",
     "output_type": "stream",
     "text": [
      "Epoch 89/1000\n",
      " 1/29 [>.............................] - ETA: 0s - loss: 0.5931 - accuracy: 0.7578\n",
      "Epoch 89: saving model to model/keypoint_classifier/keypoint_classifier.hdf5\n",
      "29/29 [==============================] - 0s 951us/step - loss: 0.5440 - accuracy: 0.7872 - val_loss: 0.2285 - val_accuracy: 0.9509\n",
      "Epoch 90/1000\n",
      " 1/29 [>.............................] - ETA: 0s - loss: 0.4065 - accuracy: 0.8516\n",
      "Epoch 90: saving model to model/keypoint_classifier/keypoint_classifier.hdf5\n",
      "29/29 [==============================] - 0s 935us/step - loss: 0.5274 - accuracy: 0.7936 - val_loss: 0.2346 - val_accuracy: 0.9493\n",
      "Epoch 91/1000\n",
      " 1/29 [>.............................] - ETA: 0s - loss: 0.5222 - accuracy: 0.7812\n",
      "Epoch 91: saving model to model/keypoint_classifier/keypoint_classifier.hdf5\n",
      "29/29 [==============================] - 0s 925us/step - loss: 0.5354 - accuracy: 0.7955 - val_loss: 0.2272 - val_accuracy: 0.9493\n",
      "Epoch 92/1000\n",
      " 1/29 [>.............................] - ETA: 0s - loss: 0.5062 - accuracy: 0.7656\n",
      "Epoch 92: saving model to model/keypoint_classifier/keypoint_classifier.hdf5\n",
      "29/29 [==============================] - 0s 922us/step - loss: 0.5314 - accuracy: 0.7908 - val_loss: 0.2253 - val_accuracy: 0.9576\n",
      "Epoch 93/1000\n",
      " 1/29 [>.............................] - ETA: 0s - loss: 0.4978 - accuracy: 0.8359\n",
      "Epoch 93: saving model to model/keypoint_classifier/keypoint_classifier.hdf5\n",
      "29/29 [==============================] - 0s 890us/step - loss: 0.5320 - accuracy: 0.7961 - val_loss: 0.2272 - val_accuracy: 0.9517\n",
      "Epoch 94/1000\n",
      " 1/29 [>.............................] - ETA: 0s - loss: 0.4872 - accuracy: 0.8438\n",
      "Epoch 94: saving model to model/keypoint_classifier/keypoint_classifier.hdf5\n",
      "29/29 [==============================] - 0s 905us/step - loss: 0.5353 - accuracy: 0.7875 - val_loss: 0.2338 - val_accuracy: 0.9534\n",
      "Epoch 95/1000\n",
      " 1/29 [>.............................] - ETA: 0s - loss: 0.5555 - accuracy: 0.8125\n",
      "Epoch 95: saving model to model/keypoint_classifier/keypoint_classifier.hdf5\n",
      "29/29 [==============================] - 0s 920us/step - loss: 0.5285 - accuracy: 0.7908 - val_loss: 0.2234 - val_accuracy: 0.9609\n",
      "Epoch 96/1000\n",
      " 1/29 [>.............................] - ETA: 0s - loss: 0.4836 - accuracy: 0.8516\n",
      "Epoch 96: saving model to model/keypoint_classifier/keypoint_classifier.hdf5\n",
      "29/29 [==============================] - 0s 924us/step - loss: 0.5246 - accuracy: 0.7980 - val_loss: 0.2187 - val_accuracy: 0.9592\n",
      "Epoch 97/1000\n",
      " 1/29 [>.............................] - ETA: 0s - loss: 0.5248 - accuracy: 0.7812\n",
      "Epoch 97: saving model to model/keypoint_classifier/keypoint_classifier.hdf5\n",
      "29/29 [==============================] - 0s 938us/step - loss: 0.5287 - accuracy: 0.7819 - val_loss: 0.2237 - val_accuracy: 0.9584\n",
      "Epoch 98/1000\n",
      " 1/29 [>.............................] - ETA: 0s - loss: 0.4728 - accuracy: 0.8203\n",
      "Epoch 98: saving model to model/keypoint_classifier/keypoint_classifier.hdf5\n",
      "29/29 [==============================] - 0s 923us/step - loss: 0.5265 - accuracy: 0.8022 - val_loss: 0.2165 - val_accuracy: 0.9576\n",
      "Epoch 99/1000\n",
      " 1/29 [>.............................] - ETA: 0s - loss: 0.5090 - accuracy: 0.7969\n",
      "Epoch 99: saving model to model/keypoint_classifier/keypoint_classifier.hdf5\n",
      "29/29 [==============================] - 0s 934us/step - loss: 0.5321 - accuracy: 0.7886 - val_loss: 0.2235 - val_accuracy: 0.9601\n",
      "Epoch 100/1000\n",
      " 1/29 [>.............................] - ETA: 0s - loss: 0.5797 - accuracy: 0.8047\n",
      "Epoch 100: saving model to model/keypoint_classifier/keypoint_classifier.hdf5\n",
      "29/29 [==============================] - 0s 929us/step - loss: 0.5383 - accuracy: 0.7847 - val_loss: 0.2277 - val_accuracy: 0.9443\n",
      "Epoch 101/1000\n",
      " 1/29 [>.............................] - ETA: 0s - loss: 0.4040 - accuracy: 0.8828\n",
      "Epoch 101: saving model to model/keypoint_classifier/keypoint_classifier.hdf5\n",
      "29/29 [==============================] - 0s 948us/step - loss: 0.5451 - accuracy: 0.7886 - val_loss: 0.2176 - val_accuracy: 0.9551\n",
      "Epoch 102/1000\n",
      " 1/29 [>.............................] - ETA: 0s - loss: 0.5413 - accuracy: 0.7578\n",
      "Epoch 102: saving model to model/keypoint_classifier/keypoint_classifier.hdf5\n",
      "29/29 [==============================] - 0s 967us/step - loss: 0.5120 - accuracy: 0.8002 - val_loss: 0.2178 - val_accuracy: 0.9559\n",
      "Epoch 103/1000\n",
      " 1/29 [>.............................] - ETA: 0s - loss: 0.5504 - accuracy: 0.7812\n",
      "Epoch 103: saving model to model/keypoint_classifier/keypoint_classifier.hdf5\n",
      "29/29 [==============================] - 0s 944us/step - loss: 0.5450 - accuracy: 0.7841 - val_loss: 0.2179 - val_accuracy: 0.9551\n",
      "Epoch 104/1000\n",
      " 1/29 [>.............................] - ETA: 0s - loss: 0.6501 - accuracy: 0.7812\n",
      "Epoch 104: saving model to model/keypoint_classifier/keypoint_classifier.hdf5\n",
      "29/29 [==============================] - 0s 972us/step - loss: 0.5277 - accuracy: 0.8013 - val_loss: 0.2213 - val_accuracy: 0.9592\n",
      "Epoch 105/1000\n",
      " 1/29 [>.............................] - ETA: 0s - loss: 0.5163 - accuracy: 0.7969\n",
      "Epoch 105: saving model to model/keypoint_classifier/keypoint_classifier.hdf5\n",
      "29/29 [==============================] - 0s 970us/step - loss: 0.5270 - accuracy: 0.8041 - val_loss: 0.2153 - val_accuracy: 0.9617\n",
      "Epoch 106/1000\n",
      " 1/29 [>.............................] - ETA: 0s - loss: 0.4707 - accuracy: 0.8047\n",
      "Epoch 106: saving model to model/keypoint_classifier/keypoint_classifier.hdf5\n",
      "29/29 [==============================] - 0s 943us/step - loss: 0.5142 - accuracy: 0.8022 - val_loss: 0.2155 - val_accuracy: 0.9584\n",
      "Epoch 107/1000\n",
      " 1/29 [>.............................] - ETA: 0s - loss: 0.6597 - accuracy: 0.7422\n",
      "Epoch 107: saving model to model/keypoint_classifier/keypoint_classifier.hdf5\n",
      "29/29 [==============================] - 0s 949us/step - loss: 0.5334 - accuracy: 0.7969 - val_loss: 0.2208 - val_accuracy: 0.9592\n",
      "Epoch 108/1000\n",
      " 1/29 [>.............................] - ETA: 0s - loss: 0.5950 - accuracy: 0.7578\n",
      "Epoch 108: saving model to model/keypoint_classifier/keypoint_classifier.hdf5\n",
      "29/29 [==============================] - 0s 937us/step - loss: 0.5301 - accuracy: 0.7941 - val_loss: 0.2264 - val_accuracy: 0.9576\n",
      "Epoch 109/1000\n",
      " 1/29 [>.............................] - ETA: 0s - loss: 0.4774 - accuracy: 0.8125\n",
      "Epoch 109: saving model to model/keypoint_classifier/keypoint_classifier.hdf5\n",
      "29/29 [==============================] - 0s 950us/step - loss: 0.5166 - accuracy: 0.7974 - val_loss: 0.2182 - val_accuracy: 0.9642\n",
      "Epoch 110/1000\n",
      " 1/29 [>.............................] - ETA: 0s - loss: 0.4284 - accuracy: 0.8516\n",
      "Epoch 110: saving model to model/keypoint_classifier/keypoint_classifier.hdf5\n",
      "29/29 [==============================] - 0s 953us/step - loss: 0.5142 - accuracy: 0.7986 - val_loss: 0.2215 - val_accuracy: 0.9576\n",
      "Epoch 111/1000\n",
      " 1/29 [>.............................] - ETA: 0s - loss: 0.4976 - accuracy: 0.8047\n",
      "Epoch 111: saving model to model/keypoint_classifier/keypoint_classifier.hdf5\n",
      "29/29 [==============================] - 0s 943us/step - loss: 0.5344 - accuracy: 0.7947 - val_loss: 0.2220 - val_accuracy: 0.9592\n",
      "Epoch 112/1000\n",
      " 1/29 [>.............................] - ETA: 0s - loss: 0.5603 - accuracy: 0.7891\n",
      "Epoch 112: saving model to model/keypoint_classifier/keypoint_classifier.hdf5\n",
      "29/29 [==============================] - 0s 958us/step - loss: 0.4945 - accuracy: 0.8127 - val_loss: 0.2065 - val_accuracy: 0.9634\n",
      "Epoch 113/1000\n",
      " 1/29 [>.............................] - ETA: 0s - loss: 0.4513 - accuracy: 0.8594\n",
      "Epoch 113: saving model to model/keypoint_classifier/keypoint_classifier.hdf5\n",
      "29/29 [==============================] - 0s 980us/step - loss: 0.5221 - accuracy: 0.7966 - val_loss: 0.2212 - val_accuracy: 0.9559\n",
      "Epoch 114/1000\n",
      " 1/29 [>.............................] - ETA: 0s - loss: 0.4283 - accuracy: 0.8516\n",
      "Epoch 114: saving model to model/keypoint_classifier/keypoint_classifier.hdf5\n",
      "29/29 [==============================] - 0s 944us/step - loss: 0.5369 - accuracy: 0.7833 - val_loss: 0.2267 - val_accuracy: 0.9542\n",
      "Epoch 115/1000\n",
      " 1/29 [>.............................] - ETA: 0s - loss: 0.5201 - accuracy: 0.8047\n",
      "Epoch 115: saving model to model/keypoint_classifier/keypoint_classifier.hdf5\n",
      "29/29 [==============================] - 0s 950us/step - loss: 0.5143 - accuracy: 0.8027 - val_loss: 0.2156 - val_accuracy: 0.9617\n"
     ]
    },
    {
     "name": "stdout",
     "output_type": "stream",
     "text": [
      "Epoch 116/1000\n",
      " 1/29 [>.............................] - ETA: 0s - loss: 0.3695 - accuracy: 0.8438\n",
      "Epoch 116: saving model to model/keypoint_classifier/keypoint_classifier.hdf5\n",
      "29/29 [==============================] - 0s 942us/step - loss: 0.5122 - accuracy: 0.8060 - val_loss: 0.2139 - val_accuracy: 0.9626\n",
      "Epoch 117/1000\n",
      " 1/29 [>.............................] - ETA: 0s - loss: 0.4843 - accuracy: 0.8125\n",
      "Epoch 117: saving model to model/keypoint_classifier/keypoint_classifier.hdf5\n",
      "29/29 [==============================] - 0s 926us/step - loss: 0.5033 - accuracy: 0.7999 - val_loss: 0.2144 - val_accuracy: 0.9609\n",
      "Epoch 118/1000\n",
      " 1/29 [>.............................] - ETA: 0s - loss: 0.4871 - accuracy: 0.8516\n",
      "Epoch 118: saving model to model/keypoint_classifier/keypoint_classifier.hdf5\n",
      "29/29 [==============================] - 0s 915us/step - loss: 0.5181 - accuracy: 0.8002 - val_loss: 0.2185 - val_accuracy: 0.9617\n",
      "Epoch 119/1000\n",
      " 1/29 [>.............................] - ETA: 0s - loss: 0.4696 - accuracy: 0.7969\n",
      "Epoch 119: saving model to model/keypoint_classifier/keypoint_classifier.hdf5\n",
      "29/29 [==============================] - 0s 925us/step - loss: 0.5138 - accuracy: 0.8019 - val_loss: 0.2140 - val_accuracy: 0.9617\n",
      "Epoch 120/1000\n",
      " 1/29 [>.............................] - ETA: 0s - loss: 0.5328 - accuracy: 0.7734\n",
      "Epoch 120: saving model to model/keypoint_classifier/keypoint_classifier.hdf5\n",
      "29/29 [==============================] - 0s 900us/step - loss: 0.5220 - accuracy: 0.7972 - val_loss: 0.2140 - val_accuracy: 0.9626\n",
      "Epoch 121/1000\n",
      " 1/29 [>.............................] - ETA: 0s - loss: 0.5591 - accuracy: 0.7578\n",
      "Epoch 121: saving model to model/keypoint_classifier/keypoint_classifier.hdf5\n",
      "29/29 [==============================] - 0s 916us/step - loss: 0.5307 - accuracy: 0.7927 - val_loss: 0.2185 - val_accuracy: 0.9592\n",
      "Epoch 122/1000\n",
      " 1/29 [>.............................] - ETA: 0s - loss: 0.5363 - accuracy: 0.7812\n",
      "Epoch 122: saving model to model/keypoint_classifier/keypoint_classifier.hdf5\n",
      "29/29 [==============================] - 0s 941us/step - loss: 0.5201 - accuracy: 0.8027 - val_loss: 0.2114 - val_accuracy: 0.9617\n",
      "Epoch 123/1000\n",
      " 1/29 [>.............................] - ETA: 0s - loss: 0.5544 - accuracy: 0.7422\n",
      "Epoch 123: saving model to model/keypoint_classifier/keypoint_classifier.hdf5\n",
      "29/29 [==============================] - 0s 913us/step - loss: 0.5239 - accuracy: 0.8011 - val_loss: 0.2088 - val_accuracy: 0.9659\n",
      "Epoch 124/1000\n",
      " 1/29 [>.............................] - ETA: 0s - loss: 0.5813 - accuracy: 0.7969\n",
      "Epoch 124: saving model to model/keypoint_classifier/keypoint_classifier.hdf5\n",
      "29/29 [==============================] - 0s 925us/step - loss: 0.5145 - accuracy: 0.8019 - val_loss: 0.2112 - val_accuracy: 0.9642\n",
      "Epoch 125/1000\n",
      " 1/29 [>.............................] - ETA: 0s - loss: 0.5187 - accuracy: 0.7734\n",
      "Epoch 125: saving model to model/keypoint_classifier/keypoint_classifier.hdf5\n",
      "29/29 [==============================] - 0s 923us/step - loss: 0.5314 - accuracy: 0.7897 - val_loss: 0.2113 - val_accuracy: 0.9617\n",
      "Epoch 126/1000\n",
      " 1/29 [>.............................] - ETA: 0s - loss: 0.5793 - accuracy: 0.7734\n",
      "Epoch 126: saving model to model/keypoint_classifier/keypoint_classifier.hdf5\n",
      "29/29 [==============================] - 0s 947us/step - loss: 0.5294 - accuracy: 0.7938 - val_loss: 0.2222 - val_accuracy: 0.9592\n",
      "Epoch 127/1000\n",
      " 1/29 [>.............................] - ETA: 0s - loss: 0.5131 - accuracy: 0.8125\n",
      "Epoch 127: saving model to model/keypoint_classifier/keypoint_classifier.hdf5\n",
      "29/29 [==============================] - 0s 962us/step - loss: 0.4977 - accuracy: 0.8097 - val_loss: 0.2029 - val_accuracy: 0.9609\n",
      "Epoch 128/1000\n",
      " 1/29 [>.............................] - ETA: 0s - loss: 0.4507 - accuracy: 0.8125\n",
      "Epoch 128: saving model to model/keypoint_classifier/keypoint_classifier.hdf5\n",
      "29/29 [==============================] - 0s 951us/step - loss: 0.4969 - accuracy: 0.8077 - val_loss: 0.2064 - val_accuracy: 0.9609\n",
      "Epoch 129/1000\n",
      " 1/29 [>.............................] - ETA: 0s - loss: 0.4812 - accuracy: 0.8516\n",
      "Epoch 129: saving model to model/keypoint_classifier/keypoint_classifier.hdf5\n",
      "29/29 [==============================] - 0s 943us/step - loss: 0.5073 - accuracy: 0.8077 - val_loss: 0.2071 - val_accuracy: 0.9634\n",
      "Epoch 130/1000\n",
      " 1/29 [>.............................] - ETA: 0s - loss: 0.6632 - accuracy: 0.7422\n",
      "Epoch 130: saving model to model/keypoint_classifier/keypoint_classifier.hdf5\n",
      "29/29 [==============================] - 0s 965us/step - loss: 0.5289 - accuracy: 0.7991 - val_loss: 0.2116 - val_accuracy: 0.9634\n",
      "Epoch 131/1000\n",
      " 1/29 [>.............................] - ETA: 0s - loss: 0.5204 - accuracy: 0.7812\n",
      "Epoch 131: saving model to model/keypoint_classifier/keypoint_classifier.hdf5\n",
      "29/29 [==============================] - 0s 949us/step - loss: 0.5020 - accuracy: 0.8116 - val_loss: 0.2073 - val_accuracy: 0.9642\n",
      "Epoch 132/1000\n",
      " 1/29 [>.............................] - ETA: 0s - loss: 0.4582 - accuracy: 0.8203\n",
      "Epoch 132: saving model to model/keypoint_classifier/keypoint_classifier.hdf5\n",
      "29/29 [==============================] - 0s 992us/step - loss: 0.4935 - accuracy: 0.8058 - val_loss: 0.2123 - val_accuracy: 0.9584\n",
      "Epoch 133/1000\n",
      " 1/29 [>.............................] - ETA: 0s - loss: 0.5489 - accuracy: 0.7656\n",
      "Epoch 133: saving model to model/keypoint_classifier/keypoint_classifier.hdf5\n",
      "29/29 [==============================] - 0s 970us/step - loss: 0.4903 - accuracy: 0.8119 - val_loss: 0.2117 - val_accuracy: 0.9617\n",
      "Epoch 134/1000\n",
      " 1/29 [>.............................] - ETA: 0s - loss: 0.5224 - accuracy: 0.8047\n",
      "Epoch 134: saving model to model/keypoint_classifier/keypoint_classifier.hdf5\n",
      "29/29 [==============================] - 0s 993us/step - loss: 0.5070 - accuracy: 0.8085 - val_loss: 0.2102 - val_accuracy: 0.9609\n",
      "Epoch 135/1000\n",
      " 1/29 [>.............................] - ETA: 0s - loss: 0.3982 - accuracy: 0.8516\n",
      "Epoch 135: saving model to model/keypoint_classifier/keypoint_classifier.hdf5\n",
      "29/29 [==============================] - 0s 953us/step - loss: 0.5136 - accuracy: 0.8038 - val_loss: 0.2102 - val_accuracy: 0.9584\n",
      "Epoch 136/1000\n",
      " 1/29 [>.............................] - ETA: 0s - loss: 0.4392 - accuracy: 0.8516\n",
      "Epoch 136: saving model to model/keypoint_classifier/keypoint_classifier.hdf5\n",
      "29/29 [==============================] - 0s 1ms/step - loss: 0.5101 - accuracy: 0.8036 - val_loss: 0.2032 - val_accuracy: 0.9617\n",
      "Epoch 137/1000\n",
      " 1/29 [>.............................] - ETA: 0s - loss: 0.3779 - accuracy: 0.8672\n",
      "Epoch 137: saving model to model/keypoint_classifier/keypoint_classifier.hdf5\n",
      "29/29 [==============================] - 0s 1ms/step - loss: 0.4952 - accuracy: 0.8108 - val_loss: 0.2126 - val_accuracy: 0.9584\n",
      "Epoch 138/1000\n",
      " 1/29 [>.............................] - ETA: 0s - loss: 0.3700 - accuracy: 0.8906\n",
      "Epoch 138: saving model to model/keypoint_classifier/keypoint_classifier.hdf5\n",
      "29/29 [==============================] - 0s 1ms/step - loss: 0.4944 - accuracy: 0.8138 - val_loss: 0.2085 - val_accuracy: 0.9592\n",
      "Epoch 139/1000\n",
      " 1/29 [>.............................] - ETA: 0s - loss: 0.5842 - accuracy: 0.7344\n",
      "Epoch 139: saving model to model/keypoint_classifier/keypoint_classifier.hdf5\n",
      "29/29 [==============================] - 0s 981us/step - loss: 0.5090 - accuracy: 0.7986 - val_loss: 0.2137 - val_accuracy: 0.9609\n",
      "Epoch 140/1000\n",
      " 1/29 [>.............................] - ETA: 0s - loss: 0.6035 - accuracy: 0.7500\n",
      "Epoch 140: saving model to model/keypoint_classifier/keypoint_classifier.hdf5\n",
      "29/29 [==============================] - 0s 1ms/step - loss: 0.5013 - accuracy: 0.8055 - val_loss: 0.2138 - val_accuracy: 0.9517\n",
      "Epoch 141/1000\n",
      " 1/29 [>.............................] - ETA: 0s - loss: 0.5132 - accuracy: 0.7969\n",
      "Epoch 141: saving model to model/keypoint_classifier/keypoint_classifier.hdf5\n",
      "29/29 [==============================] - 0s 976us/step - loss: 0.4946 - accuracy: 0.8102 - val_loss: 0.2146 - val_accuracy: 0.9542\n",
      "Epoch 142/1000\n",
      " 1/29 [>.............................] - ETA: 0s - loss: 0.4530 - accuracy: 0.8438\n",
      "Epoch 142: saving model to model/keypoint_classifier/keypoint_classifier.hdf5\n",
      "29/29 [==============================] - 0s 973us/step - loss: 0.4866 - accuracy: 0.8135 - val_loss: 0.2064 - val_accuracy: 0.9534\n"
     ]
    },
    {
     "name": "stdout",
     "output_type": "stream",
     "text": [
      "Epoch 143/1000\n",
      " 1/29 [>.............................] - ETA: 0s - loss: 0.4212 - accuracy: 0.8359\n",
      "Epoch 143: saving model to model/keypoint_classifier/keypoint_classifier.hdf5\n",
      "29/29 [==============================] - 0s 942us/step - loss: 0.4926 - accuracy: 0.8124 - val_loss: 0.2062 - val_accuracy: 0.9617\n",
      "Epoch 144/1000\n",
      " 1/29 [>.............................] - ETA: 0s - loss: 0.4717 - accuracy: 0.8125\n",
      "Epoch 144: saving model to model/keypoint_classifier/keypoint_classifier.hdf5\n",
      "29/29 [==============================] - 0s 939us/step - loss: 0.5022 - accuracy: 0.8083 - val_loss: 0.2014 - val_accuracy: 0.9642\n",
      "Epoch 145/1000\n",
      " 1/29 [>.............................] - ETA: 0s - loss: 0.4110 - accuracy: 0.8281\n",
      "Epoch 145: saving model to model/keypoint_classifier/keypoint_classifier.hdf5\n",
      "29/29 [==============================] - 0s 941us/step - loss: 0.4961 - accuracy: 0.8088 - val_loss: 0.2122 - val_accuracy: 0.9517\n",
      "Epoch 146/1000\n",
      " 1/29 [>.............................] - ETA: 0s - loss: 0.5005 - accuracy: 0.8047\n",
      "Epoch 146: saving model to model/keypoint_classifier/keypoint_classifier.hdf5\n",
      "29/29 [==============================] - 0s 912us/step - loss: 0.4965 - accuracy: 0.8122 - val_loss: 0.2096 - val_accuracy: 0.9576\n",
      "Epoch 147/1000\n",
      " 1/29 [>.............................] - ETA: 0s - loss: 0.4479 - accuracy: 0.8047\n",
      "Epoch 147: saving model to model/keypoint_classifier/keypoint_classifier.hdf5\n",
      "29/29 [==============================] - 0s 946us/step - loss: 0.4679 - accuracy: 0.8133 - val_loss: 0.2079 - val_accuracy: 0.9484\n",
      "Epoch 148/1000\n",
      " 1/29 [>.............................] - ETA: 0s - loss: 0.4825 - accuracy: 0.8203\n",
      "Epoch 148: saving model to model/keypoint_classifier/keypoint_classifier.hdf5\n",
      "29/29 [==============================] - 0s 922us/step - loss: 0.4962 - accuracy: 0.8044 - val_loss: 0.2093 - val_accuracy: 0.9551\n",
      "Epoch 149/1000\n",
      " 1/29 [>.............................] - ETA: 0s - loss: 0.5029 - accuracy: 0.8203\n",
      "Epoch 149: saving model to model/keypoint_classifier/keypoint_classifier.hdf5\n",
      "29/29 [==============================] - 0s 937us/step - loss: 0.4979 - accuracy: 0.8097 - val_loss: 0.2108 - val_accuracy: 0.9534\n",
      "Epoch 150/1000\n",
      " 1/29 [>.............................] - ETA: 0s - loss: 0.4255 - accuracy: 0.8359\n",
      "Epoch 150: saving model to model/keypoint_classifier/keypoint_classifier.hdf5\n",
      "29/29 [==============================] - 0s 940us/step - loss: 0.5047 - accuracy: 0.8102 - val_loss: 0.2083 - val_accuracy: 0.9626\n",
      "Epoch 151/1000\n",
      " 1/29 [>.............................] - ETA: 0s - loss: 0.5592 - accuracy: 0.7812\n",
      "Epoch 151: saving model to model/keypoint_classifier/keypoint_classifier.hdf5\n",
      "29/29 [==============================] - 0s 922us/step - loss: 0.4911 - accuracy: 0.8180 - val_loss: 0.2019 - val_accuracy: 0.9601\n",
      "Epoch 152/1000\n",
      " 1/29 [>.............................] - ETA: 0s - loss: 0.3372 - accuracy: 0.8516\n",
      "Epoch 152: saving model to model/keypoint_classifier/keypoint_classifier.hdf5\n",
      "29/29 [==============================] - 0s 1ms/step - loss: 0.5031 - accuracy: 0.8069 - val_loss: 0.2022 - val_accuracy: 0.9567\n",
      "Epoch 153/1000\n",
      " 1/29 [>.............................] - ETA: 0s - loss: 0.5070 - accuracy: 0.7734\n",
      "Epoch 153: saving model to model/keypoint_classifier/keypoint_classifier.hdf5\n",
      "29/29 [==============================] - 0s 924us/step - loss: 0.4889 - accuracy: 0.8049 - val_loss: 0.2011 - val_accuracy: 0.9609\n",
      "Epoch 154/1000\n",
      " 1/29 [>.............................] - ETA: 0s - loss: 0.5034 - accuracy: 0.8281\n",
      "Epoch 154: saving model to model/keypoint_classifier/keypoint_classifier.hdf5\n",
      "29/29 [==============================] - 0s 927us/step - loss: 0.4857 - accuracy: 0.8127 - val_loss: 0.1993 - val_accuracy: 0.9592\n",
      "Epoch 155/1000\n",
      " 1/29 [>.............................] - ETA: 0s - loss: 0.4067 - accuracy: 0.8672\n",
      "Epoch 155: saving model to model/keypoint_classifier/keypoint_classifier.hdf5\n",
      "29/29 [==============================] - 0s 950us/step - loss: 0.4888 - accuracy: 0.8158 - val_loss: 0.2018 - val_accuracy: 0.9576\n",
      "Epoch 156/1000\n",
      " 1/29 [>.............................] - ETA: 0s - loss: 0.6027 - accuracy: 0.8203\n",
      "Epoch 156: saving model to model/keypoint_classifier/keypoint_classifier.hdf5\n",
      "29/29 [==============================] - 0s 921us/step - loss: 0.4951 - accuracy: 0.8102 - val_loss: 0.1945 - val_accuracy: 0.9617\n",
      "Epoch 157/1000\n",
      " 1/29 [>.............................] - ETA: 0s - loss: 0.5382 - accuracy: 0.8281\n",
      "Epoch 157: saving model to model/keypoint_classifier/keypoint_classifier.hdf5\n",
      "29/29 [==============================] - 0s 927us/step - loss: 0.4989 - accuracy: 0.8069 - val_loss: 0.2083 - val_accuracy: 0.9551\n",
      "Epoch 158/1000\n",
      " 1/29 [>.............................] - ETA: 0s - loss: 0.4357 - accuracy: 0.8125\n",
      "Epoch 158: saving model to model/keypoint_classifier/keypoint_classifier.hdf5\n",
      "29/29 [==============================] - 0s 938us/step - loss: 0.5050 - accuracy: 0.8019 - val_loss: 0.2089 - val_accuracy: 0.9526\n",
      "Epoch 159/1000\n",
      " 1/29 [>.............................] - ETA: 0s - loss: 0.6147 - accuracy: 0.7812\n",
      "Epoch 159: saving model to model/keypoint_classifier/keypoint_classifier.hdf5\n",
      "29/29 [==============================] - 0s 950us/step - loss: 0.4820 - accuracy: 0.8199 - val_loss: 0.2068 - val_accuracy: 0.9592\n",
      "Epoch 160/1000\n",
      " 1/29 [>.............................] - ETA: 0s - loss: 0.4968 - accuracy: 0.8203\n",
      "Epoch 160: saving model to model/keypoint_classifier/keypoint_classifier.hdf5\n",
      "29/29 [==============================] - 0s 936us/step - loss: 0.4884 - accuracy: 0.8155 - val_loss: 0.2065 - val_accuracy: 0.9567\n",
      "Epoch 161/1000\n",
      " 1/29 [>.............................] - ETA: 0s - loss: 0.5139 - accuracy: 0.8438\n",
      "Epoch 161: saving model to model/keypoint_classifier/keypoint_classifier.hdf5\n",
      "29/29 [==============================] - 0s 944us/step - loss: 0.4998 - accuracy: 0.8105 - val_loss: 0.2060 - val_accuracy: 0.9584\n",
      "Epoch 162/1000\n",
      " 1/29 [>.............................] - ETA: 0s - loss: 0.3893 - accuracy: 0.8672\n",
      "Epoch 162: saving model to model/keypoint_classifier/keypoint_classifier.hdf5\n",
      "29/29 [==============================] - 0s 938us/step - loss: 0.4816 - accuracy: 0.8135 - val_loss: 0.2063 - val_accuracy: 0.9617\n",
      "Epoch 163/1000\n",
      " 1/29 [>.............................] - ETA: 0s - loss: 0.4416 - accuracy: 0.8906\n",
      "Epoch 163: saving model to model/keypoint_classifier/keypoint_classifier.hdf5\n",
      "29/29 [==============================] - 0s 951us/step - loss: 0.4810 - accuracy: 0.8216 - val_loss: 0.1957 - val_accuracy: 0.9659\n",
      "Epoch 164/1000\n",
      " 1/29 [>.............................] - ETA: 0s - loss: 0.4994 - accuracy: 0.8047\n",
      "Epoch 164: saving model to model/keypoint_classifier/keypoint_classifier.hdf5\n",
      "29/29 [==============================] - 0s 924us/step - loss: 0.4870 - accuracy: 0.8144 - val_loss: 0.1985 - val_accuracy: 0.9634\n",
      "Epoch 165/1000\n",
      " 1/29 [>.............................] - ETA: 0s - loss: 0.4544 - accuracy: 0.7891\n",
      "Epoch 165: saving model to model/keypoint_classifier/keypoint_classifier.hdf5\n",
      "29/29 [==============================] - 0s 952us/step - loss: 0.5047 - accuracy: 0.8005 - val_loss: 0.2077 - val_accuracy: 0.9559\n",
      "Epoch 166/1000\n",
      " 1/29 [>.............................] - ETA: 0s - loss: 0.4599 - accuracy: 0.8047\n",
      "Epoch 166: saving model to model/keypoint_classifier/keypoint_classifier.hdf5\n",
      "29/29 [==============================] - 0s 1ms/step - loss: 0.4863 - accuracy: 0.8122 - val_loss: 0.2033 - val_accuracy: 0.9584\n",
      "Epoch 167/1000\n",
      " 1/29 [>.............................] - ETA: 0s - loss: 0.4419 - accuracy: 0.8438\n",
      "Epoch 167: saving model to model/keypoint_classifier/keypoint_classifier.hdf5\n",
      "29/29 [==============================] - 0s 990us/step - loss: 0.4771 - accuracy: 0.8166 - val_loss: 0.2038 - val_accuracy: 0.9634\n",
      "Epoch 168/1000\n",
      " 1/29 [>.............................] - ETA: 0s - loss: 0.5727 - accuracy: 0.7578\n",
      "Epoch 168: saving model to model/keypoint_classifier/keypoint_classifier.hdf5\n",
      "29/29 [==============================] - 0s 996us/step - loss: 0.5013 - accuracy: 0.8108 - val_loss: 0.1991 - val_accuracy: 0.9634\n",
      "Epoch 169/1000\n",
      " 1/29 [>.............................] - ETA: 0s - loss: 0.4506 - accuracy: 0.7891\n",
      "Epoch 169: saving model to model/keypoint_classifier/keypoint_classifier.hdf5\n",
      "29/29 [==============================] - 0s 982us/step - loss: 0.4780 - accuracy: 0.8160 - val_loss: 0.1983 - val_accuracy: 0.9601\n"
     ]
    },
    {
     "name": "stdout",
     "output_type": "stream",
     "text": [
      "Epoch 170/1000\n",
      " 1/29 [>.............................] - ETA: 0s - loss: 0.5770 - accuracy: 0.7969\n",
      "Epoch 170: saving model to model/keypoint_classifier/keypoint_classifier.hdf5\n",
      "29/29 [==============================] - 0s 971us/step - loss: 0.4799 - accuracy: 0.8127 - val_loss: 0.2020 - val_accuracy: 0.9601\n",
      "Epoch 171/1000\n",
      " 1/29 [>.............................] - ETA: 0s - loss: 0.5242 - accuracy: 0.7969\n",
      "Epoch 171: saving model to model/keypoint_classifier/keypoint_classifier.hdf5\n",
      "29/29 [==============================] - 0s 948us/step - loss: 0.4713 - accuracy: 0.8208 - val_loss: 0.1959 - val_accuracy: 0.9592\n",
      "Epoch 172/1000\n",
      " 1/29 [>.............................] - ETA: 0s - loss: 0.5187 - accuracy: 0.7969\n",
      "Epoch 172: saving model to model/keypoint_classifier/keypoint_classifier.hdf5\n",
      "29/29 [==============================] - 0s 931us/step - loss: 0.4842 - accuracy: 0.8185 - val_loss: 0.2059 - val_accuracy: 0.9667\n",
      "Epoch 173/1000\n",
      " 1/29 [>.............................] - ETA: 0s - loss: 0.5552 - accuracy: 0.8125\n",
      "Epoch 173: saving model to model/keypoint_classifier/keypoint_classifier.hdf5\n",
      "29/29 [==============================] - 0s 928us/step - loss: 0.4881 - accuracy: 0.8210 - val_loss: 0.1964 - val_accuracy: 0.9684\n",
      "Epoch 174/1000\n",
      " 1/29 [>.............................] - ETA: 0s - loss: 0.4757 - accuracy: 0.7969\n",
      "Epoch 174: saving model to model/keypoint_classifier/keypoint_classifier.hdf5\n",
      "29/29 [==============================] - 0s 924us/step - loss: 0.4869 - accuracy: 0.8152 - val_loss: 0.2005 - val_accuracy: 0.9584\n",
      "Epoch 175/1000\n",
      " 1/29 [>.............................] - ETA: 0s - loss: 0.5410 - accuracy: 0.7578\n",
      "Epoch 175: saving model to model/keypoint_classifier/keypoint_classifier.hdf5\n",
      "29/29 [==============================] - 0s 911us/step - loss: 0.4933 - accuracy: 0.8074 - val_loss: 0.1964 - val_accuracy: 0.9584\n",
      "Epoch 176/1000\n",
      " 1/29 [>.............................] - ETA: 0s - loss: 0.4242 - accuracy: 0.8359\n",
      "Epoch 176: saving model to model/keypoint_classifier/keypoint_classifier.hdf5\n",
      "29/29 [==============================] - 0s 928us/step - loss: 0.4901 - accuracy: 0.8116 - val_loss: 0.2048 - val_accuracy: 0.9576\n",
      "Epoch 176: early stopping\n"
     ]
    },
    {
     "data": {
      "text/plain": [
       "<keras.src.callbacks.History at 0x298bb7fd0>"
      ]
     },
     "execution_count": 11,
     "metadata": {},
     "output_type": "execute_result"
    }
   ],
   "source": [
    "model.fit(\n",
    "    X_train,\n",
    "    y_train,\n",
    "    epochs=1000,\n",
    "    batch_size=128,\n",
    "    validation_data=(X_test, y_test),\n",
    "    callbacks=[cp_callback, es_callback]\n",
    ")"
   ]
  },
  {
   "cell_type": "code",
   "execution_count": 12,
   "metadata": {
    "colab": {
     "base_uri": "https://localhost:8080/"
    },
    "id": "pxvb2Y299hE3",
    "outputId": "59eb3185-2e37-4b9e-bc9d-ab1b8ac29b7f"
   },
   "outputs": [
    {
     "name": "stdout",
     "output_type": "stream",
     "text": [
      "10/10 [==============================] - 0s 356us/step - loss: 0.2048 - accuracy: 0.9576\n"
     ]
    }
   ],
   "source": [
    "# Model evaluation\n",
    "val_loss, val_acc = model.evaluate(X_test, y_test, batch_size=128)"
   ]
  },
  {
   "cell_type": "code",
   "execution_count": 13,
   "metadata": {
    "id": "RBkmDeUW9hE4"
   },
   "outputs": [],
   "source": [
    "# Loading the saved model\n",
    "model = tf.keras.models.load_model(model_save_path)"
   ]
  },
  {
   "cell_type": "code",
   "execution_count": 14,
   "metadata": {
    "colab": {
     "base_uri": "https://localhost:8080/"
    },
    "id": "tFz9Tb0I9hE4",
    "outputId": "1c3b3528-54ae-4ee2-ab04-77429211cbef"
   },
   "outputs": [
    {
     "name": "stdout",
     "output_type": "stream",
     "text": [
      "1/1 [==============================] - 0s 29ms/step\n",
      "[9.6819246e-01 3.1555556e-02 2.5104833e-04 1.0810138e-06]\n",
      "0\n"
     ]
    }
   ],
   "source": [
    "# Inference test\n",
    "predict_result = model.predict(np.array([X_test[0]]))\n",
    "print(np.squeeze(predict_result))\n",
    "print(np.argmax(np.squeeze(predict_result)))"
   ]
  },
  {
   "cell_type": "markdown",
   "metadata": {
    "id": "S3U4yNWx9hE4"
   },
   "source": [
    "# Confusion matrix"
   ]
  },
  {
   "cell_type": "code",
   "execution_count": 15,
   "metadata": {
    "colab": {
     "base_uri": "https://localhost:8080/",
     "height": 582
    },
    "id": "AP1V6SCk9hE5",
    "outputId": "08e41a80-7a4a-4619-8125-ecc371368d19"
   },
   "outputs": [
    {
     "name": "stdout",
     "output_type": "stream",
     "text": [
      "38/38 [==============================] - 0s 234us/step\n"
     ]
    },
    {
     "data": {
      "image/png": "[encoded data removed]",
      "text/plain": [
       "<Figure size 700x600 with 2 Axes>"
      ]
     },
     "metadata": {},
     "output_type": "display_data"
    },
    {
     "name": "stdout",
     "output_type": "stream",
     "text": [
      "Classification Report\n",
      "              precision    recall  f1-score   support\n",
      "\n",
      "           0       0.97      0.97      0.97       402\n",
      "           1       0.99      0.91      0.95       364\n",
      "           2       0.94      0.99      0.96       344\n",
      "           3       0.88      0.99      0.93        92\n",
      "\n",
      "    accuracy                           0.96      1202\n",
      "   macro avg       0.94      0.96      0.95      1202\n",
      "weighted avg       0.96      0.96      0.96      1202\n",
      "\n"
     ]
    }
   ],
   "source": [
    "import pandas as pd\n",
    "import seaborn as sns\n",
    "import matplotlib.pyplot as plt\n",
    "from sklearn.metrics import confusion_matrix, classification_report\n",
    "\n",
    "def print_confusion_matrix(y_true, y_pred, report=True):\n",
    "    labels = sorted(list(set(y_true)))\n",
    "    cmx_data = confusion_matrix(y_true, y_pred, labels=labels)\n",
    "    \n",
    "    df_cmx = pd.DataFrame(cmx_data, index=labels, columns=labels)\n",
    " \n",
    "    fig, ax = plt.subplots(figsize=(7, 6))\n",
    "    sns.heatmap(df_cmx, annot=True, fmt='g' ,square=False)\n",
    "    ax.set_ylim(len(set(y_true)), 0)\n",
    "    plt.show()\n",
    "    \n",
    "    if report:\n",
    "        print('Classification Report')\n",
    "        print(classification_report(y_test, y_pred))\n",
    "\n",
    "Y_pred = model.predict(X_test)\n",
    "y_pred = np.argmax(Y_pred, axis=1)\n",
    "\n",
    "print_confusion_matrix(y_test, y_pred)"
   ]
  },
  {
   "cell_type": "markdown",
   "metadata": {
    "id": "FNP6aqzc9hE5"
   },
   "source": [
    "# Convert to model for Tensorflow-Lite"
   ]
  },
  {
   "cell_type": "code",
   "execution_count": 16,
   "metadata": {
    "id": "ODjnYyld9hE6"
   },
   "outputs": [
    {
     "name": "stderr",
     "output_type": "stream",
     "text": [
      "/Users/rayhanmohammad/anaconda3/lib/python3.11/site-packages/keras/src/engine/training.py:3103: UserWarning: You are saving your model as an HDF5 file via `model.save()`. This file format is considered legacy. We recommend using instead the native Keras format, e.g. `model.save('my_model.keras')`.\n",
      "  saving_api.save_model(\n"
     ]
    }
   ],
   "source": [
    "# Save as a model dedicated to inference\n",
    "model.save(model_save_path, include_optimizer=False)"
   ]
  },
  {
   "cell_type": "code",
   "execution_count": 17,
   "metadata": {
    "colab": {
     "base_uri": "https://localhost:8080/"
    },
    "id": "zRfuK8Y59hE6",
    "outputId": "a4ca585c-b5d5-4244-8291-8674063209bb"
   },
   "outputs": [
    {
     "name": "stdout",
     "output_type": "stream",
     "text": [
      "INFO:tensorflow:Assets written to: /var/folders/75/3wt3dr3x7cd17742qd8xs8kh0000gn/T/tmp337n01yq/assets\n"
     ]
    },
    {
     "name": "stderr",
     "output_type": "stream",
     "text": [
      "INFO:tensorflow:Assets written to: /var/folders/75/3wt3dr3x7cd17742qd8xs8kh0000gn/T/tmp337n01yq/assets\n",
      "2024-02-22 20:32:45.079677: W tensorflow/compiler/mlir/lite/python/tf_tfl_flatbuffer_helpers.cc:378] Ignored output_format.\n",
      "2024-02-22 20:32:45.079691: W tensorflow/compiler/mlir/lite/python/tf_tfl_flatbuffer_helpers.cc:381] Ignored drop_control_dependency.\n",
      "2024-02-22 20:32:45.080232: I tensorflow/cc/saved_model/reader.cc:83] Reading SavedModel from: /var/folders/75/3wt3dr3x7cd17742qd8xs8kh0000gn/T/tmp337n01yq\n",
      "2024-02-22 20:32:45.080748: I tensorflow/cc/saved_model/reader.cc:51] Reading meta graph with tags { serve }\n",
      "2024-02-22 20:32:45.080752: I tensorflow/cc/saved_model/reader.cc:146] Reading SavedModel debug info (if present) from: /var/folders/75/3wt3dr3x7cd17742qd8xs8kh0000gn/T/tmp337n01yq\n",
      "2024-02-22 20:32:45.082549: I tensorflow/compiler/mlir/mlir_graph_optimization_pass.cc:388] MLIR V1 optimization pass is not enabled\n",
      "2024-02-22 20:32:45.083121: I tensorflow/cc/saved_model/loader.cc:233] Restoring SavedModel bundle.\n",
      "2024-02-22 20:32:45.107243: I tensorflow/cc/saved_model/loader.cc:217] Running initialization op on SavedModel bundle at path: /var/folders/75/3wt3dr3x7cd17742qd8xs8kh0000gn/T/tmp337n01yq\n",
      "2024-02-22 20:32:45.113519: I tensorflow/cc/saved_model/loader.cc:316] SavedModel load for tags { serve }; Status: success: OK. Took 33292 microseconds.\n",
      "2024-02-22 20:32:45.133224: I tensorflow/compiler/mlir/tensorflow/utils/dump_mlir_util.cc:269] disabling MLIR crash reproducer, set env var `MLIR_CRASH_REPRODUCER_DIRECTORY` to enable.\n",
      "Summary on the non-converted ops:\n",
      "---------------------------------\n",
      " * Accepted dialects: tfl, builtin, func\n",
      " * Non-Converted Ops: 6, Total Ops 13, % non-converted = 46.15 %\n",
      " * 6 ARITH ops\n",
      "\n",
      "- arith.constant:    6 occurrences  (f32: 6)\n",
      "\n",
      "\n",
      "\n",
      "  (f32: 3)\n",
      "  (f32: 1)\n"
     ]
    },
    {
     "data": {
      "text/plain": [
       "6544"
      ]
     },
     "execution_count": 17,
     "metadata": {},
     "output_type": "execute_result"
    }
   ],
   "source": [
    "# Transform model (quantization)\n",
    "\n",
    "converter = tf.lite.TFLiteConverter.from_keras_model(model)\n",
    "converter.optimizations = [tf.lite.Optimize.DEFAULT]\n",
    "tflite_quantized_model = converter.convert()\n",
    "\n",
    "open(tflite_save_path, 'wb').write(tflite_quantized_model)"
   ]
  },
  {
   "cell_type": "markdown",
   "metadata": {
    "id": "CHBPBXdx9hE6"
   },
   "source": [
    "# Inference test"
   ]
  },
  {
   "cell_type": "code",
   "execution_count": 18,
   "metadata": {
    "id": "mGAzLocO9hE7"
   },
   "outputs": [
    {
     "name": "stderr",
     "output_type": "stream",
     "text": [
      "INFO: Created TensorFlow Lite XNNPACK delegate for CPU.\n"
     ]
    }
   ],
   "source": [
    "interpreter = tf.lite.Interpreter(model_path=tflite_save_path)\n",
    "interpreter.allocate_tensors()"
   ]
  },
  {
   "cell_type": "code",
   "execution_count": 19,
   "metadata": {
    "id": "oQuDK8YS9hE7"
   },
   "outputs": [],
   "source": [
    "# Get I / O tensor\n",
    "input_details = interpreter.get_input_details()\n",
    "output_details = interpreter.get_output_details()"
   ]
  },
  {
   "cell_type": "code",
   "execution_count": 20,
   "metadata": {
    "id": "2_ixAf_l9hE7"
   },
   "outputs": [],
   "source": [
    "interpreter.set_tensor(input_details[0]['index'], np.array([X_test[0]]))"
   ]
  },
  {
   "cell_type": "code",
   "execution_count": 21,
   "metadata": {
    "colab": {
     "base_uri": "https://localhost:8080/"
    },
    "id": "s4FoAnuc9hE7",
    "outputId": "91f18257-8d8b-4ef3-c558-e9b5f94fabbf",
    "scrolled": true
   },
   "outputs": [
    {
     "name": "stdout",
     "output_type": "stream",
     "text": [
      "CPU times: user 224 µs, sys: 548 µs, total: 772 µs\n",
      "Wall time: 529 µs\n"
     ]
    }
   ],
   "source": [
    "%%time\n",
    "# Inference implementation\n",
    "interpreter.invoke()\n",
    "tflite_results = interpreter.get_tensor(output_details[0]['index'])"
   ]
  },
  {
   "cell_type": "code",
   "execution_count": 22,
   "metadata": {
    "colab": {
     "base_uri": "https://localhost:8080/"
    },
    "id": "vONjp19J9hE8",
    "outputId": "77205e24-fd00-42c4-f7b6-e06e527c2cba"
   },
   "outputs": [
    {
     "name": "stdout",
     "output_type": "stream",
     "text": [
      "[9.6819234e-01 3.1555563e-02 2.5104854e-04 1.0810166e-06]\n",
      "0\n"
     ]
    }
   ],
   "source": [
    "print(np.squeeze(tflite_results))\n",
    "print(np.argmax(np.squeeze(tflite_results)))"
   ]
  }
 ],
 "metadata": {
  "accelerator": "GPU",
  "colab": {
   "collapsed_sections": [],
   "name": "keypoint_classification_EN.ipynb",
   "provenance": [],
   "toc_visible": true
  },
  "kernelspec": {
   "display_name": "Python 3 (ipykernel)",
   "language": "python",
   "name": "python3"
  },
  "language_info": {
   "codemirror_mode": {
    "name": "ipython",
    "version": 3
   },
   "file_extension": ".py",
   "mimetype": "text/x-python",
   "name": "python",
   "nbconvert_exporter": "python",
   "pygments_lexer": "ipython3",
   "version": "3.11.5"
  }
 },
 "nbformat": 4,
 "nbformat_minor": 1
}
